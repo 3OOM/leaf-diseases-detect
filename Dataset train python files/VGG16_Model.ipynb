{
 "cells": [
  {
   "cell_type": "code",
   "execution_count": 1,
   "metadata": {
    "id": "8tXrKMg4qz4f"
   },
   "outputs": [],
   "source": [
    "#from tensorflow.compat.v1 import ConfigProto\n",
    "#from tensorflow.compat.v1 import InteractiveSession\n",
    "\n",
    "#config = ConfigProto()\n",
    "#config.gpu_options.per_process_gpu_memory_fraction = 0.5\n",
    "#config.gpu_options.allow_growth = True\n",
    "#session = InteractiveSession(config=config)"
   ]
  },
  {
   "cell_type": "code",
   "execution_count": 2,
   "metadata": {
    "executionInfo": {
     "elapsed": 461,
     "status": "ok",
     "timestamp": 1668327055543,
     "user": {
      "displayName": "Abhishek Nikam",
      "userId": "14725695971073874747"
     },
     "user_tz": -330
    },
    "id": "z-ofrj_rrqYb"
   },
   "outputs": [],
   "source": [
    "# import the libraries as shown below\n",
    "\n",
    "from tensorflow.keras.layers import Input, Lambda, Dense, Flatten\n",
    "from tensorflow.keras.models import Model\n",
    "\n",
    "# from tensorflow.keras.applications.ResNet152V2\n",
    "#from tensorflow.keras.applications import Xception\n",
    "# from keras.applications.resnet_152_v2 import preprocess_input\n",
    "#from tensorflow.keras.applications.inception_v3 import InceptionV3\n",
    "from keras.applications.vgg16 import VGG16\n",
    "from tensorflow.keras.applications.vgg16 import preprocess_input\n",
    "from tensorflow.keras.preprocessing import image\n",
    "from tensorflow.keras.preprocessing.image import ImageDataGenerator,load_img\n",
    "from tensorflow.keras.models import Sequential\n",
    "import numpy as np\n",
    "from glob import glob\n",
    "#import matplotlib.pyplot as plt"
   ]
  },
  {
   "cell_type": "code",
   "execution_count": 3,
   "metadata": {
    "executionInfo": {
     "elapsed": 5,
     "status": "ok",
     "timestamp": 1668327057862,
     "user": {
      "displayName": "Abhishek Nikam",
      "userId": "14725695971073874747"
     },
     "user_tz": -330
    },
    "id": "zTIHma9brvA9"
   },
   "outputs": [],
   "source": [
    "# re-size all the images to this\n",
    "IMAGE_SIZE = [224, 224]\n",
    "\n",
    "\n",
    "\n",
    "train_path = \"C:\\\\Users\\\\praja\\\\OneDrive\\\\Documents\\\\Abhi\\\\tomato\\\\train\"\n",
    "valid_path = \"C:\\\\Users\\\\praja\\\\OneDrive\\\\Documents\\\\Abhi\\\\tomato\\\\val\"\n"
   ]
  },
  {
   "cell_type": "code",
   "execution_count": 4,
   "metadata": {},
   "outputs": [
    {
     "data": {
      "text/plain": [
       "10"
      ]
     },
     "execution_count": 4,
     "metadata": {},
     "output_type": "execute_result"
    }
   ],
   "source": [
    "#EDA\n",
    "import os\n",
    "os.listdir(\"C:\\\\Users\\\\praja\\\\OneDrive\\\\Documents\\\\Abhi\\\\tomato\\\\train\")\n",
    "\n",
    "len(os.listdir(\"C:\\\\Users\\\\praja\\\\OneDrive\\\\Documents\\\\Abhi\\\\tomato\\\\train\"))"
   ]
  },
  {
   "cell_type": "code",
   "execution_count": 5,
   "metadata": {
    "executionInfo": {
     "elapsed": 4055,
     "status": "ok",
     "timestamp": 1668327065930,
     "user": {
      "displayName": "Abhishek Nikam",
      "userId": "14725695971073874747"
     },
     "user_tz": -330
    },
    "id": "7cXtqD7Hr_GX"
   },
   "outputs": [],
   "source": [
    "\n",
    "\n",
    "vgg16 = VGG16(input_shape=IMAGE_SIZE + [3], weights='imagenet', include_top=False)\n",
    "\n",
    "\n"
   ]
  },
  {
   "cell_type": "code",
   "execution_count": 6,
   "metadata": {
    "executionInfo": {
     "elapsed": 520,
     "status": "ok",
     "timestamp": 1668327068472,
     "user": {
      "displayName": "Abhishek Nikam",
      "userId": "14725695971073874747"
     },
     "user_tz": -330
    },
    "id": "zxoVoo0ssCGW"
   },
   "outputs": [],
   "source": [
    "# don't train existing weights\n",
    "for layer in vgg16.layers:\n",
    "    layer.trainable = False"
   ]
  },
  {
   "cell_type": "code",
   "execution_count": 7,
   "metadata": {
    "executionInfo": {
     "elapsed": 5,
     "status": "ok",
     "timestamp": 1668327070741,
     "user": {
      "displayName": "Abhishek Nikam",
      "userId": "14725695971073874747"
     },
     "user_tz": -330
    },
    "id": "5cEDz3pBsGMA"
   },
   "outputs": [],
   "source": [
    "  # useful for getting number of output classes\n",
    "folders = glob('C:\\\\Users\\\\praja\\\\OneDrive\\\\Documents\\\\Abhi\\\\tomato\\\\train\\\\*')"
   ]
  },
  {
   "cell_type": "code",
   "execution_count": 8,
   "metadata": {
    "executionInfo": {
     "elapsed": 4,
     "status": "ok",
     "timestamp": 1668327072182,
     "user": {
      "displayName": "Abhishek Nikam",
      "userId": "14725695971073874747"
     },
     "user_tz": -330
    },
    "id": "0ejB-MQysSdS"
   },
   "outputs": [],
   "source": [
    "# our layers - you can add more if you want\n",
    "x = Flatten()(vgg16.output)"
   ]
  },
  {
   "cell_type": "code",
   "execution_count": 9,
   "metadata": {
    "executionInfo": {
     "elapsed": 611,
     "status": "ok",
     "timestamp": 1668327074246,
     "user": {
      "displayName": "Abhishek Nikam",
      "userId": "14725695971073874747"
     },
     "user_tz": -330
    },
    "id": "1DUF3kSCsUoP"
   },
   "outputs": [],
   "source": [
    "prediction = Dense(len(folders), activation='softmax')(x)\n",
    "\n",
    "# create a model object\n",
    "model = Model(inputs=vgg16.input, outputs=prediction)"
   ]
  },
  {
   "cell_type": "code",
   "execution_count": 10,
   "metadata": {
    "colab": {
     "base_uri": "https://localhost:8080/"
    },
    "executionInfo": {
     "elapsed": 3571,
     "status": "ok",
     "timestamp": 1668327079920,
     "user": {
      "displayName": "Abhishek Nikam",
      "userId": "14725695971073874747"
     },
     "user_tz": -330
    },
    "id": "qS3ZjuscsWuR",
    "outputId": "5b03b907-8e78-44d8-a2de-adcabf3b74bf"
   },
   "outputs": [
    {
     "name": "stdout",
     "output_type": "stream",
     "text": [
      "Model: \"model\"\n",
      "_________________________________________________________________\n",
      " Layer (type)                Output Shape              Param #   \n",
      "=================================================================\n",
      " input_1 (InputLayer)        [(None, 224, 224, 3)]     0         \n",
      "                                                                 \n",
      " block1_conv1 (Conv2D)       (None, 224, 224, 64)      1792      \n",
      "                                                                 \n",
      " block1_conv2 (Conv2D)       (None, 224, 224, 64)      36928     \n",
      "                                                                 \n",
      " block1_pool (MaxPooling2D)  (None, 112, 112, 64)      0         \n",
      "                                                                 \n",
      " block2_conv1 (Conv2D)       (None, 112, 112, 128)     73856     \n",
      "                                                                 \n",
      " block2_conv2 (Conv2D)       (None, 112, 112, 128)     147584    \n",
      "                                                                 \n",
      " block2_pool (MaxPooling2D)  (None, 56, 56, 128)       0         \n",
      "                                                                 \n",
      " block3_conv1 (Conv2D)       (None, 56, 56, 256)       295168    \n",
      "                                                                 \n",
      " block3_conv2 (Conv2D)       (None, 56, 56, 256)       590080    \n",
      "                                                                 \n",
      " block3_conv3 (Conv2D)       (None, 56, 56, 256)       590080    \n",
      "                                                                 \n",
      " block3_pool (MaxPooling2D)  (None, 28, 28, 256)       0         \n",
      "                                                                 \n",
      " block4_conv1 (Conv2D)       (None, 28, 28, 512)       1180160   \n",
      "                                                                 \n",
      " block4_conv2 (Conv2D)       (None, 28, 28, 512)       2359808   \n",
      "                                                                 \n",
      " block4_conv3 (Conv2D)       (None, 28, 28, 512)       2359808   \n",
      "                                                                 \n",
      " block4_pool (MaxPooling2D)  (None, 14, 14, 512)       0         \n",
      "                                                                 \n",
      " block5_conv1 (Conv2D)       (None, 14, 14, 512)       2359808   \n",
      "                                                                 \n",
      " block5_conv2 (Conv2D)       (None, 14, 14, 512)       2359808   \n",
      "                                                                 \n",
      " block5_conv3 (Conv2D)       (None, 14, 14, 512)       2359808   \n",
      "                                                                 \n",
      " block5_pool (MaxPooling2D)  (None, 7, 7, 512)         0         \n",
      "                                                                 \n",
      " flatten (Flatten)           (None, 25088)             0         \n",
      "                                                                 \n",
      " dense (Dense)               (None, 10)                250890    \n",
      "                                                                 \n",
      "=================================================================\n",
      "Total params: 14,965,578\n",
      "Trainable params: 250,890\n",
      "Non-trainable params: 14,714,688\n",
      "_________________________________________________________________\n"
     ]
    }
   ],
   "source": [
    "\n",
    "# view the structure of the model\n",
    "model.summary()\n"
   ]
  },
  {
   "cell_type": "code",
   "execution_count": 11,
   "metadata": {
    "executionInfo": {
     "elapsed": 375,
     "status": "ok",
     "timestamp": 1668327082902,
     "user": {
      "displayName": "Abhishek Nikam",
      "userId": "14725695971073874747"
     },
     "user_tz": -330
    },
    "id": "fv1C1aqGsZOS"
   },
   "outputs": [],
   "source": [
    "# tell the model what cost and optimization method to use\n",
    "model.compile(\n",
    "  loss='categorical_crossentropy',\n",
    "  optimizer='adam',\n",
    "  metrics=['accuracy']\n",
    ")\n"
   ]
  },
  {
   "cell_type": "code",
   "execution_count": 12,
   "metadata": {
    "executionInfo": {
     "elapsed": 380,
     "status": "ok",
     "timestamp": 1668327085228,
     "user": {
      "displayName": "Abhishek Nikam",
      "userId": "14725695971073874747"
     },
     "user_tz": -330
    },
    "id": "XyL_er3RscOq"
   },
   "outputs": [],
   "source": [
    "# Use the Image Data Generator to import the images from the dataset\n",
    "from tensorflow.keras.preprocessing.image import ImageDataGenerator\n",
    "\n",
    "train_datagen = ImageDataGenerator(rescale = 1./255,\n",
    "                                   shear_range = 0.2,\n",
    "                                   zoom_range = 0.2,\n",
    "                                   horizontal_flip = True)\n",
    "\n",
    "test_datagen = ImageDataGenerator(rescale = 1./255)"
   ]
  },
  {
   "cell_type": "code",
   "execution_count": 13,
   "metadata": {
    "colab": {
     "base_uri": "https://localhost:8080/"
    },
    "executionInfo": {
     "elapsed": 1059,
     "status": "ok",
     "timestamp": 1668327088659,
     "user": {
      "displayName": "Abhishek Nikam",
      "userId": "14725695971073874747"
     },
     "user_tz": -330
    },
    "id": "x2ldamOssepe",
    "outputId": "d94d2178-6785-4e52-cbba-37928c4e43e0"
   },
   "outputs": [
    {
     "name": "stdout",
     "output_type": "stream",
     "text": [
      "Found 10000 images belonging to 10 classes.\n"
     ]
    }
   ],
   "source": [
    "\n",
    "training_set = train_datagen.flow_from_directory('C:\\\\Users\\\\praja\\\\OneDrive\\\\Documents\\\\Abhi\\\\tomato\\\\train',\n",
    "                                                 target_size = (224, 224),\n",
    "                                                 batch_size = 32,\n",
    "                                                 class_mode = 'categorical')\n"
   ]
  },
  {
   "cell_type": "code",
   "execution_count": 14,
   "metadata": {
    "colab": {
     "base_uri": "https://localhost:8080/"
    },
    "executionInfo": {
     "elapsed": 2357,
     "status": "ok",
     "timestamp": 1668327093925,
     "user": {
      "displayName": "Abhishek Nikam",
      "userId": "14725695971073874747"
     },
     "user_tz": -330
    },
    "id": "238VR4zUsxha",
    "outputId": "388b7065-46c2-48b3-d60e-bc22b68bde25"
   },
   "outputs": [
    {
     "name": "stdout",
     "output_type": "stream",
     "text": [
      "Found 1000 images belonging to 10 classes.\n"
     ]
    }
   ],
   "source": [
    "test_set = test_datagen.flow_from_directory('C:\\\\Users\\\\praja\\\\OneDrive\\\\Documents\\\\Abhi\\\\tomato\\\\val',\n",
    "                                            target_size = (224, 224),\n",
    "                                            batch_size = 32,\n",
    "                                            class_mode = 'categorical')"
   ]
  },
  {
   "cell_type": "code",
   "execution_count": 15,
   "metadata": {
    "colab": {
     "base_uri": "https://localhost:8080/"
    },
    "id": "H7U7iKjGs-SD",
    "outputId": "18c508aa-6799-4339-acc7-b9211f86f733"
   },
   "outputs": [
    {
     "name": "stderr",
     "output_type": "stream",
     "text": [
      "C:\\Users\\praja\\AppData\\Local\\Temp\\ipykernel_10916\\2245298814.py:3: UserWarning: `Model.fit_generator` is deprecated and will be removed in a future version. Please use `Model.fit`, which supports generators.\n",
      "  r = model.fit_generator(\n"
     ]
    },
    {
     "name": "stdout",
     "output_type": "stream",
     "text": [
      "Epoch 1/20\n",
      "313/313 [==============================] - 1635s 5s/step - loss: 0.9030 - accuracy: 0.7031 - val_loss: 0.8833 - val_accuracy: 0.7320\n",
      "Epoch 2/20\n",
      "313/313 [==============================] - 1828s 6s/step - loss: 0.4405 - accuracy: 0.8480 - val_loss: 0.6187 - val_accuracy: 0.8090\n",
      "Epoch 3/20\n",
      "313/313 [==============================] - 1812s 6s/step - loss: 0.3840 - accuracy: 0.8700 - val_loss: 0.7690 - val_accuracy: 0.7790\n",
      "Epoch 4/20\n",
      "313/313 [==============================] - 1771s 6s/step - loss: 0.3268 - accuracy: 0.8907 - val_loss: 0.5479 - val_accuracy: 0.8390\n",
      "Epoch 5/20\n",
      "313/313 [==============================] - 1782s 6s/step - loss: 0.2858 - accuracy: 0.9001 - val_loss: 0.6546 - val_accuracy: 0.8220\n",
      "Epoch 6/20\n",
      "313/313 [==============================] - 1828s 6s/step - loss: 0.2653 - accuracy: 0.9085 - val_loss: 0.7303 - val_accuracy: 0.8100\n",
      "Epoch 7/20\n",
      "313/313 [==============================] - 1825s 6s/step - loss: 0.2105 - accuracy: 0.9280 - val_loss: 0.6563 - val_accuracy: 0.8220\n",
      "Epoch 8/20\n",
      "313/313 [==============================] - 1826s 6s/step - loss: 0.1927 - accuracy: 0.9338 - val_loss: 0.8928 - val_accuracy: 0.7770\n",
      "Epoch 9/20\n",
      "313/313 [==============================] - 1846s 6s/step - loss: 0.1726 - accuracy: 0.9403 - val_loss: 0.6871 - val_accuracy: 0.8220\n",
      "Epoch 10/20\n",
      "313/313 [==============================] - 1975s 6s/step - loss: 0.1653 - accuracy: 0.9427 - val_loss: 0.6714 - val_accuracy: 0.8410\n",
      "Epoch 11/20\n",
      "313/313 [==============================] - 1893s 6s/step - loss: 0.1904 - accuracy: 0.9338 - val_loss: 0.7160 - val_accuracy: 0.8370\n",
      "Epoch 12/20\n",
      "313/313 [==============================] - 1797s 6s/step - loss: 0.1453 - accuracy: 0.9487 - val_loss: 0.7681 - val_accuracy: 0.8330\n",
      "Epoch 13/20\n",
      "313/313 [==============================] - 1829s 6s/step - loss: 0.1822 - accuracy: 0.9377 - val_loss: 1.2291 - val_accuracy: 0.7660\n",
      "Epoch 14/20\n",
      "313/313 [==============================] - 1825s 6s/step - loss: 0.1379 - accuracy: 0.9557 - val_loss: 0.5965 - val_accuracy: 0.8550\n",
      "Epoch 15/20\n",
      "313/313 [==============================] - 1807s 6s/step - loss: 0.1555 - accuracy: 0.9476 - val_loss: 0.7921 - val_accuracy: 0.8280\n",
      "Epoch 16/20\n",
      "313/313 [==============================] - 1824s 6s/step - loss: 0.1455 - accuracy: 0.9491 - val_loss: 0.6879 - val_accuracy: 0.8430\n",
      "Epoch 17/20\n",
      "313/313 [==============================] - 1816s 6s/step - loss: 0.1157 - accuracy: 0.9605 - val_loss: 0.9812 - val_accuracy: 0.8060\n",
      "Epoch 18/20\n",
      "313/313 [==============================] - 1848s 6s/step - loss: 0.1239 - accuracy: 0.9566 - val_loss: 0.7770 - val_accuracy: 0.8290\n",
      "Epoch 19/20\n",
      "313/313 [==============================] - 1837s 6s/step - loss: 0.1386 - accuracy: 0.9513 - val_loss: 0.8145 - val_accuracy: 0.8460\n",
      "Epoch 20/20\n",
      "313/313 [==============================] - 1809s 6s/step - loss: 0.1455 - accuracy: 0.9509 - val_loss: 0.9282 - val_accuracy: 0.8250\n"
     ]
    }
   ],
   "source": [
    "\n",
    "r = model.fit_generator(\n",
    "  training_set,\n",
    "  validation_data=test_set,\n",
    "  epochs=20,\n",
    "  steps_per_epoch=len(training_set),\n",
    "  validation_steps=len(test_set)\n",
    ")"
   ]
  },
  {
   "cell_type": "code",
   "execution_count": 16,
   "metadata": {
    "colab": {
     "base_uri": "https://localhost:8080/",
     "height": 183
    },
    "executionInfo": {
     "elapsed": 386,
     "status": "error",
     "timestamp": 1668355860300,
     "user": {
      "displayName": "Abhishek Nikam",
      "userId": "14725695971073874747"
     },
     "user_tz": -330
    },
    "id": "62uYk3tSOoBS",
    "outputId": "ed91402c-0d62-4bef-9bc1-12032fef5f5e"
   },
   "outputs": [
    {
     "name": "stderr",
     "output_type": "stream",
     "text": [
      "WARNING:absl:Found untraced functions such as _jit_compiled_convolution_op, _jit_compiled_convolution_op, _jit_compiled_convolution_op, _jit_compiled_convolution_op, _jit_compiled_convolution_op while saving (showing 5 of 13). These functions will not be directly callable after loading.\n"
     ]
    },
    {
     "name": "stdout",
     "output_type": "stream",
     "text": [
      "INFO:tensorflow:Assets written to: ram://782e9ac2-8fa8-461d-a35c-8dc268aa912c/assets\n"
     ]
    },
    {
     "name": "stderr",
     "output_type": "stream",
     "text": [
      "INFO:tensorflow:Assets written to: ram://782e9ac2-8fa8-461d-a35c-8dc268aa912c/assets\n"
     ]
    }
   ],
   "source": [
    "import pickle\n",
    "pickle.dump(model, open('model_vgg16.pkl', 'wb'))"
   ]
  },
  {
   "cell_type": "code",
   "execution_count": 17,
   "metadata": {
    "id": "yfCzmezTOjMA"
   },
   "outputs": [],
   "source": [
    "# save it as a h5 file\n",
    "\n",
    "\n",
    "from tensorflow.keras.models import load_model\n",
    "\n",
    "model.save('model_vgg16.h5')"
   ]
  },
  {
   "cell_type": "code",
   "execution_count": 18,
   "metadata": {},
   "outputs": [
    {
     "name": "stdout",
     "output_type": "stream",
     "text": [
      "32/32 [==============================] - 114s 4s/step\n"
     ]
    }
   ],
   "source": [
    "y_pred = model.predict(test_set)"
   ]
  },
  {
   "cell_type": "code",
   "execution_count": 19,
   "metadata": {},
   "outputs": [],
   "source": [
    "from keras.models import load_model\n",
    "from tensorflow.keras.preprocessing import image\n",
    "\n",
    "model = load_model(\"C:\\\\Users\\\\praja\\\\OneDrive\\\\Documents\\\\Abhi\\\\MainProjectInceptionV3\\\\model_vgg16.h5\")\n"
   ]
  },
  {
   "cell_type": "code",
   "execution_count": 20,
   "metadata": {},
   "outputs": [
    {
     "name": "stdout",
     "output_type": "stream",
     "text": [
      "C:\\Users\\praja\\OneDrive\\Documents\\Abhi\\tomato\\train\n"
     ]
    }
   ],
   "source": [
    "print(train_path)"
   ]
  },
  {
   "cell_type": "code",
   "execution_count": 21,
   "metadata": {},
   "outputs": [
    {
     "data": {
      "text/plain": [
       "{'Tomato___Bacterial_spot': 0,\n",
       " 'Tomato___Early_blight': 1,\n",
       " 'Tomato___Late_blight': 2,\n",
       " 'Tomato___Leaf_Mold': 3,\n",
       " 'Tomato___Septoria_leaf_spot': 4,\n",
       " 'Tomato___Spider_mites Two-spotted_spider_mite': 5,\n",
       " 'Tomato___Target_Spot': 6,\n",
       " 'Tomato___Tomato_Yellow_Leaf_Curl_Virus': 7,\n",
       " 'Tomato___Tomato_mosaic_virus': 8,\n",
       " 'Tomato___healthy': 9}"
      ]
     },
     "execution_count": 21,
     "metadata": {},
     "output_type": "execute_result"
    }
   ],
   "source": [
    "#list of classes with their Indices\n",
    "training_set.class_indices\n"
   ]
  },
  {
   "cell_type": "code",
   "execution_count": 22,
   "metadata": {},
   "outputs": [
    {
     "data": {
      "text/plain": [
       "dict_keys(['Tomato___Bacterial_spot', 'Tomato___Early_blight', 'Tomato___Late_blight', 'Tomato___Leaf_Mold', 'Tomato___Septoria_leaf_spot', 'Tomato___Spider_mites Two-spotted_spider_mite', 'Tomato___Target_Spot', 'Tomato___Tomato_Yellow_Leaf_Curl_Virus', 'Tomato___Tomato_mosaic_virus', 'Tomato___healthy'])"
      ]
     },
     "execution_count": 22,
     "metadata": {},
     "output_type": "execute_result"
    }
   ],
   "source": [
    "#list of classes in Dataset (array format)\n",
    "training_set.class_indices.keys()"
   ]
  },
  {
   "cell_type": "code",
   "execution_count": 23,
   "metadata": {},
   "outputs": [
    {
     "data": {
      "text/plain": [
       "['Tomato___Bacterial_spot',\n",
       " 'Tomato___Early_blight',\n",
       " 'Tomato___Late_blight',\n",
       " 'Tomato___Leaf_Mold',\n",
       " 'Tomato___Septoria_leaf_spot',\n",
       " 'Tomato___Spider_mites Two-spotted_spider_mite',\n",
       " 'Tomato___Target_Spot',\n",
       " 'Tomato___Tomato_Yellow_Leaf_Curl_Virus',\n",
       " 'Tomato___Tomato_mosaic_virus',\n",
       " 'Tomato___healthy']"
      ]
     },
     "execution_count": 23,
     "metadata": {},
     "output_type": "execute_result"
    }
   ],
   "source": [
    "list(training_set.class_indices.keys())"
   ]
  },
  {
   "cell_type": "code",
   "execution_count": 24,
   "metadata": {},
   "outputs": [],
   "source": [
    "#make dictionary of all disease\n",
    "ref=dict(zip(list(training_set.class_indices.values()) ,list(training_set.class_indices.keys())))\n"
   ]
  },
  {
   "cell_type": "code",
   "execution_count": 33,
   "metadata": {},
   "outputs": [],
   "source": [
    "import numpy as np\n",
    "from keras.applications.inception_v3 import preprocess_input\n",
    "\n",
    "\n",
    "def prediction(path):\n",
    "   \n",
    "    img=image.load_img(path, target_size=(224,224))\n",
    "    \n",
    "    i=image.img_to_array(img)\n",
    "#     i.shape\n",
    "    im=preprocess_input(i)\n",
    "    \n",
    "    img=np.expand_dims(im, axis=0)\n",
    "    \n",
    "    pred=np.argmax(model.predict(img))\n",
    "    \n",
    "    print(f\" the image belongs to {ref[pred]}\")"
   ]
  },
  {
   "cell_type": "code",
   "execution_count": 34,
   "metadata": {},
   "outputs": [
    {
     "name": "stdout",
     "output_type": "stream",
     "text": [
      "1/1 [==============================] - 0s 140ms/step\n",
      " the image belongs to Tomato___healthy\n"
     ]
    }
   ],
   "source": [
    "path=\"C:\\\\Users\\\\praja\\\\OneDrive\\\\Documents\\\\Abhi\\\\tomato\\\\train\\\\Tomato___healthy\\\\84cbb98b-5c2f-4367-8d78-52be491e66bd___GH_HL Leaf 336.JPG\"\n",
    "prediction(path)"
   ]
  },
  {
   "cell_type": "code",
   "execution_count": 36,
   "metadata": {},
   "outputs": [
    {
     "name": "stdout",
     "output_type": "stream",
     "text": [
      "1/1 [==============================] - 0s 132ms/step\n",
      " the image belongs to Tomato___healthy\n"
     ]
    }
   ],
   "source": [
    "Path=\"C:\\\\Users\\\\praja\\\\OneDrive\\\\Documents\\\\Abhi\\\\MainProjectInceptionV3\\\\tomato\\\\val\\\\Tomato___healthy\\\\0e1d7722-3df9-4a3a-a4e2-bc0ea3ce0da4___RS_HL 9979.JPG\"\n",
    "prediction(path)"
   ]
  },
  {
   "cell_type": "code",
   "execution_count": null,
   "metadata": {},
   "outputs": [],
   "source": []
  }
 ],
 "metadata": {
  "colab": {
   "authorship_tag": "ABX9TyMG0G/P4sXAWD3Kv4VhiEyX",
   "collapsed_sections": [],
   "mount_file_id": "1m5azkYLWUXMaKSTDBIOvDmVOgJnTVmPE",
   "provenance": []
  },
  "gpuClass": "standard",
  "kernelspec": {
   "display_name": "Python 3 (ipykernel)",
   "language": "python",
   "name": "python3"
  },
  "language_info": {
   "codemirror_mode": {
    "name": "ipython",
    "version": 3
   },
   "file_extension": ".py",
   "mimetype": "text/x-python",
   "name": "python",
   "nbconvert_exporter": "python",
   "pygments_lexer": "ipython3",
   "version": "3.9.12"
  }
 },
 "nbformat": 4,
 "nbformat_minor": 1
}
